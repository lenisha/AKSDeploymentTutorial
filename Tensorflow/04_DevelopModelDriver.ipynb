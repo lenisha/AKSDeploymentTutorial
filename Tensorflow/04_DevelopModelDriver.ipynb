{
 "cells": [
  {
   "cell_type": "markdown",
   "metadata": {},
   "source": [
    "# Develop Model Driver\n",
    "In this notebook we will develop the API that will call our model. We need it to initialise the model and transform the input from the Flask app so that it is in the appropriate format to call the model. We expect the input to be JSON that will have the image encoded as a base64 string. The code below uses the writefile magic to write the contents of the cell to the file driver.py"
   ]
  },
  {
   "cell_type": "code",
   "execution_count": 1,
   "metadata": {},
   "outputs": [
    {
     "name": "stdout",
     "output_type": "stream",
     "text": [
      "Overwriting driver.py\n"
     ]
    }
   ],
   "source": [
    "%%writefile driver.py\n",
    "import base64\n",
    "import json\n",
    "import logging\n",
    "import os\n",
    "import timeit as t\n",
    "from io import BytesIO\n",
    "\n",
    "import numpy as np\n",
    "import tensorflow as tf\n",
    "from PIL import Image, ImageOps\n",
    "from tensorflow.contrib.slim.nets import resnet_v1\n",
    "\n",
    "_MODEL_FILE = os.getenv('MODEL_FILE', \"resnet_v1_152.ckpt\")\n",
    "_LABEL_FILE = os.getenv('LABEL_FILE', \"synset.txt\")\n",
    "_NUMBER_RESULTS = 3\n",
    "\n",
    "\n",
    "def _create_label_lookup(label_path):\n",
    "    with open(label_path, 'r') as f:\n",
    "        label_list = [l.rstrip() for l in f]\n",
    "        \n",
    "    def _label_lookup(*label_locks):\n",
    "        return [label_list[l] for l in label_locks]\n",
    "    \n",
    "    return _label_lookup\n",
    "\n",
    "\n",
    "def _load_tf_model(checkpoint_file):\n",
    "    # Placeholder\n",
    "    input_tensor = tf.placeholder(tf.float32, shape=(None,224,224,3), name='input_image')\n",
    "    \n",
    "    # Load the model\n",
    "    sess = tf.Session()\n",
    "    arg_scope = resnet_v1.resnet_arg_scope()\n",
    "    with tf.contrib.slim.arg_scope(arg_scope):\n",
    "        logits, _ = resnet_v1.resnet_v1_152(input_tensor, num_classes=1000, is_training=False, reuse=tf.AUTO_REUSE)\n",
    "    probabilities = tf.nn.softmax(logits)\n",
    "    \n",
    "    saver = tf.train.Saver()\n",
    "    saver.restore(sess, checkpoint_file)\n",
    "    \n",
    "    def predict_for(image):\n",
    "        pred, pred_proba = sess.run([logits,probabilities], feed_dict={input_tensor: image})\n",
    "        return pred_proba\n",
    "    \n",
    "    return predict_for\n",
    "\n",
    "\n",
    "def _base64img_to_numpy(base64_img_string):\n",
    "    if base64_img_string.startswith('b\\''):\n",
    "        base64_img_string = base64_img_string[2:-1]\n",
    "    base64Img = base64_img_string.encode('utf-8')\n",
    "\n",
    "    # Preprocess the input data \n",
    "    startPreprocess = t.default_timer()\n",
    "    decoded_img = base64.b64decode(base64Img)\n",
    "    img_buffer = BytesIO(decoded_img)\n",
    "\n",
    "    # Load image with PIL (RGB)\n",
    "    pil_img = Image.open(img_buffer).convert('RGB')\n",
    "    pil_img = ImageOps.fit(pil_img, (224, 224), Image.ANTIALIAS)\n",
    "    return np.array(pil_img, dtype=np.float32)\n",
    "\n",
    "\n",
    "def create_scoring_func(model_path=_MODEL_FILE, label_path=_LABEL_FILE):\n",
    "    logger = logging.getLogger(\"model_driver\")\n",
    "    \n",
    "    start = t.default_timer()\n",
    "    labels_for = _create_label_lookup(label_path)\n",
    "    predict_for = _load_tf_model(model_path)\n",
    "    end = t.default_timer()\n",
    "\n",
    "    loadTimeMsg = \"Model loading time: {0} ms\".format(round((end-start)*1000, 2))\n",
    "    logger.info(loadTimeMsg)\n",
    "    \n",
    "    def call_model(image_array, number_results=_NUMBER_RESULTS):\n",
    "        pred_proba = predict_for(image_array).squeeze()\n",
    "        selected_results = np.flip(np.argsort(pred_proba), 0)[:number_results]\n",
    "        labels = labels_for(*selected_results)\n",
    "        return list(zip(labels, pred_proba[selected_results].astype(np.float64)))\n",
    "    return call_model\n",
    "\n",
    "\n",
    "def get_model_api():\n",
    "    logger = logging.getLogger(\"model_driver\")\n",
    "    scoring_func = create_scoring_func()\n",
    "    \n",
    "    def process_and_score(images_dict, number_results=_NUMBER_RESULTS):\n",
    "        start = t.default_timer()\n",
    "\n",
    "        results = {}\n",
    "        for key, base64_img_string in images_dict.items():\n",
    "            rgb_image = _base64img_to_numpy(base64_img_string)\n",
    "            batch_image = np.expand_dims(rgb_image, 0)\n",
    "            results[key]=scoring_func(batch_image, number_results=_NUMBER_RESULTS)\n",
    "        \n",
    "        end = t.default_timer()\n",
    "\n",
    "        logger.info(\"Predictions: {0}\".format(results))\n",
    "        logger.info(\"Predictions took {0} ms\".format(round((end-start)*1000, 2)))\n",
    "        return (results, 'Computed in {0} ms'.format(round((end-start)*1000, 2)))\n",
    "    return process_and_score\n",
    "\n",
    "def version():\n",
    "    return tf.__version__\n",
    "    "
   ]
  },
  {
   "cell_type": "code",
   "execution_count": 2,
   "metadata": {},
   "outputs": [],
   "source": [
    "import logging"
   ]
  },
  {
   "cell_type": "code",
   "execution_count": 3,
   "metadata": {},
   "outputs": [],
   "source": [
    "logging.basicConfig(level=logging.DEBUG)"
   ]
  },
  {
   "cell_type": "markdown",
   "metadata": {},
   "source": [
    "We run the file driver.py which will be everything into the context of the notebook."
   ]
  },
  {
   "cell_type": "code",
   "execution_count": 4,
   "metadata": {},
   "outputs": [
    {
     "ename": "ImportError",
     "evalue": "No module named 'tensorflow'",
     "output_type": "error",
     "traceback": [
      "\u001b[1;31m---------------------------------------------------------------------------\u001b[0m",
      "\u001b[1;31mImportError\u001b[0m                               Traceback (most recent call last)",
      "\u001b[1;32m~\\AppData\\Local\\Temp\\azureml_runs\\Tensorflow_1526055726522\\driver.py\u001b[0m in \u001b[0;36m<module>\u001b[1;34m()\u001b[0m\n\u001b[0;32m      7\u001b[0m \u001b[1;33m\u001b[0m\u001b[0m\n\u001b[0;32m      8\u001b[0m \u001b[1;32mimport\u001b[0m \u001b[0mnumpy\u001b[0m \u001b[1;32mas\u001b[0m \u001b[0mnp\u001b[0m\u001b[1;33m\u001b[0m\u001b[0m\n\u001b[1;32m----> 9\u001b[1;33m \u001b[1;32mimport\u001b[0m \u001b[0mtensorflow\u001b[0m \u001b[1;32mas\u001b[0m \u001b[0mtf\u001b[0m\u001b[1;33m\u001b[0m\u001b[0m\n\u001b[0m\u001b[0;32m     10\u001b[0m \u001b[1;32mfrom\u001b[0m \u001b[0mPIL\u001b[0m \u001b[1;32mimport\u001b[0m \u001b[0mImage\u001b[0m\u001b[1;33m,\u001b[0m \u001b[0mImageOps\u001b[0m\u001b[1;33m\u001b[0m\u001b[0m\n\u001b[0;32m     11\u001b[0m \u001b[1;32mfrom\u001b[0m \u001b[0mtensorflow\u001b[0m\u001b[1;33m.\u001b[0m\u001b[0mcontrib\u001b[0m\u001b[1;33m.\u001b[0m\u001b[0mslim\u001b[0m\u001b[1;33m.\u001b[0m\u001b[0mnets\u001b[0m \u001b[1;32mimport\u001b[0m \u001b[0mresnet_v1\u001b[0m\u001b[1;33m\u001b[0m\u001b[0m\n",
      "\u001b[1;31mImportError\u001b[0m: No module named 'tensorflow'"
     ]
    }
   ],
   "source": [
    "%run driver.py"
   ]
  },
  {
   "cell_type": "markdown",
   "metadata": {},
   "source": [
    "We will use the same Lynx image we used ealier to check that our driver works as expected."
   ]
  },
  {
   "cell_type": "code",
   "execution_count": 5,
   "metadata": {},
   "outputs": [
    {
     "name": "stderr",
     "output_type": "stream",
     "text": [
      "DEBUG:matplotlib:CACHEDIR=/home/mmlspark/.cache/matplotlib\n",
      "INFO:matplotlib.font_manager:font search path ['/home/mmlspark/lib/conda/envs/azureml_7fb315f76fab57ef94de3e09b3376b23/lib/python3.5/site-packages/matplotlib/mpl-data/fonts/ttf', '/home/mmlspark/lib/conda/envs/azureml_7fb315f76fab57ef94de3e09b3376b23/lib/python3.5/site-packages/matplotlib/mpl-data/fonts/afm', '/home/mmlspark/lib/conda/envs/azureml_7fb315f76fab57ef94de3e09b3376b23/lib/python3.5/site-packages/matplotlib/mpl-data/fonts/pdfcorefonts']\n",
      "DEBUG:matplotlib.font_manager:trying fontname /home/mmlspark/lib/conda/envs/azureml_7fb315f76fab57ef94de3e09b3376b23/lib/python3.5/site-packages/matplotlib/mpl-data/fonts/ttf/cmb10.ttf\n",
      "DEBUG:matplotlib.font_manager:trying fontname /home/mmlspark/lib/conda/envs/azureml_7fb315f76fab57ef94de3e09b3376b23/lib/python3.5/site-packages/matplotlib/mpl-data/fonts/ttf/cmsy10.ttf\n",
      "DEBUG:matplotlib.font_manager:trying fontname /home/mmlspark/lib/conda/envs/azureml_7fb315f76fab57ef94de3e09b3376b23/lib/python3.5/site-packages/matplotlib/mpl-data/fonts/ttf/DejaVuSans-Bold.ttf\n",
      "DEBUG:matplotlib.font_manager:trying fontname /home/mmlspark/lib/conda/envs/azureml_7fb315f76fab57ef94de3e09b3376b23/lib/python3.5/site-packages/matplotlib/mpl-data/fonts/ttf/STIXGeneral.ttf\n",
      "DEBUG:matplotlib.font_manager:trying fontname /home/mmlspark/lib/conda/envs/azureml_7fb315f76fab57ef94de3e09b3376b23/lib/python3.5/site-packages/matplotlib/mpl-data/fonts/ttf/STIXGeneralBol.ttf\n",
      "DEBUG:matplotlib.font_manager:trying fontname /home/mmlspark/lib/conda/envs/azureml_7fb315f76fab57ef94de3e09b3376b23/lib/python3.5/site-packages/matplotlib/mpl-data/fonts/ttf/cmex10.ttf\n",
      "DEBUG:matplotlib.font_manager:trying fontname /home/mmlspark/lib/conda/envs/azureml_7fb315f76fab57ef94de3e09b3376b23/lib/python3.5/site-packages/matplotlib/mpl-data/fonts/ttf/DejaVuSerif.ttf\n",
      "DEBUG:matplotlib.font_manager:trying fontname /home/mmlspark/lib/conda/envs/azureml_7fb315f76fab57ef94de3e09b3376b23/lib/python3.5/site-packages/matplotlib/mpl-data/fonts/ttf/STIXSizThreeSymReg.ttf\n",
      "DEBUG:matplotlib.font_manager:trying fontname /home/mmlspark/lib/conda/envs/azureml_7fb315f76fab57ef94de3e09b3376b23/lib/python3.5/site-packages/matplotlib/mpl-data/fonts/ttf/STIXSizThreeSymBol.ttf\n",
      "DEBUG:matplotlib.font_manager:trying fontname /home/mmlspark/lib/conda/envs/azureml_7fb315f76fab57ef94de3e09b3376b23/lib/python3.5/site-packages/matplotlib/mpl-data/fonts/ttf/STIXSizFourSymBol.ttf\n",
      "DEBUG:matplotlib.font_manager:trying fontname /home/mmlspark/lib/conda/envs/azureml_7fb315f76fab57ef94de3e09b3376b23/lib/python3.5/site-packages/matplotlib/mpl-data/fonts/ttf/DejaVuSerif-Italic.ttf\n",
      "DEBUG:matplotlib.font_manager:trying fontname /home/mmlspark/lib/conda/envs/azureml_7fb315f76fab57ef94de3e09b3376b23/lib/python3.5/site-packages/matplotlib/mpl-data/fonts/ttf/DejaVuSansDisplay.ttf\n",
      "DEBUG:matplotlib.font_manager:trying fontname /home/mmlspark/lib/conda/envs/azureml_7fb315f76fab57ef94de3e09b3376b23/lib/python3.5/site-packages/matplotlib/mpl-data/fonts/ttf/DejaVuSansMono-BoldOblique.ttf\n",
      "DEBUG:matplotlib.font_manager:trying fontname /home/mmlspark/lib/conda/envs/azureml_7fb315f76fab57ef94de3e09b3376b23/lib/python3.5/site-packages/matplotlib/mpl-data/fonts/ttf/DejaVuSerif-Bold.ttf\n",
      "DEBUG:matplotlib.font_manager:trying fontname /home/mmlspark/lib/conda/envs/azureml_7fb315f76fab57ef94de3e09b3376b23/lib/python3.5/site-packages/matplotlib/mpl-data/fonts/ttf/STIXSizOneSymBol.ttf\n",
      "DEBUG:matplotlib.font_manager:trying fontname /home/mmlspark/lib/conda/envs/azureml_7fb315f76fab57ef94de3e09b3376b23/lib/python3.5/site-packages/matplotlib/mpl-data/fonts/ttf/DejaVuSerifDisplay.ttf\n",
      "DEBUG:matplotlib.font_manager:trying fontname /home/mmlspark/lib/conda/envs/azureml_7fb315f76fab57ef94de3e09b3376b23/lib/python3.5/site-packages/matplotlib/mpl-data/fonts/ttf/DejaVuSansMono.ttf\n",
      "DEBUG:matplotlib.font_manager:trying fontname /home/mmlspark/lib/conda/envs/azureml_7fb315f76fab57ef94de3e09b3376b23/lib/python3.5/site-packages/matplotlib/mpl-data/fonts/ttf/STIXSizFiveSymReg.ttf\n",
      "DEBUG:matplotlib.font_manager:trying fontname /home/mmlspark/lib/conda/envs/azureml_7fb315f76fab57ef94de3e09b3376b23/lib/python3.5/site-packages/matplotlib/mpl-data/fonts/ttf/STIXSizTwoSymBol.ttf\n",
      "DEBUG:matplotlib.font_manager:trying fontname /home/mmlspark/lib/conda/envs/azureml_7fb315f76fab57ef94de3e09b3376b23/lib/python3.5/site-packages/matplotlib/mpl-data/fonts/ttf/cmmi10.ttf\n",
      "DEBUG:matplotlib.font_manager:trying fontname /home/mmlspark/lib/conda/envs/azureml_7fb315f76fab57ef94de3e09b3376b23/lib/python3.5/site-packages/matplotlib/mpl-data/fonts/ttf/cmtt10.ttf\n",
      "DEBUG:matplotlib.font_manager:trying fontname /home/mmlspark/lib/conda/envs/azureml_7fb315f76fab57ef94de3e09b3376b23/lib/python3.5/site-packages/matplotlib/mpl-data/fonts/ttf/STIXNonUni.ttf\n",
      "DEBUG:matplotlib.font_manager:trying fontname /home/mmlspark/lib/conda/envs/azureml_7fb315f76fab57ef94de3e09b3376b23/lib/python3.5/site-packages/matplotlib/mpl-data/fonts/ttf/DejaVuSans-Oblique.ttf\n",
      "DEBUG:matplotlib.font_manager:trying fontname /home/mmlspark/lib/conda/envs/azureml_7fb315f76fab57ef94de3e09b3376b23/lib/python3.5/site-packages/matplotlib/mpl-data/fonts/ttf/STIXSizOneSymReg.ttf\n",
      "DEBUG:matplotlib.font_manager:trying fontname /home/mmlspark/lib/conda/envs/azureml_7fb315f76fab57ef94de3e09b3376b23/lib/python3.5/site-packages/matplotlib/mpl-data/fonts/ttf/STIXSizTwoSymReg.ttf\n",
      "DEBUG:matplotlib.font_manager:trying fontname /home/mmlspark/lib/conda/envs/azureml_7fb315f76fab57ef94de3e09b3376b23/lib/python3.5/site-packages/matplotlib/mpl-data/fonts/ttf/STIXSizFourSymReg.ttf\n",
      "DEBUG:matplotlib.font_manager:trying fontname /home/mmlspark/lib/conda/envs/azureml_7fb315f76fab57ef94de3e09b3376b23/lib/python3.5/site-packages/matplotlib/mpl-data/fonts/ttf/DejaVuSansMono-Bold.ttf\n",
      "DEBUG:matplotlib.font_manager:trying fontname /home/mmlspark/lib/conda/envs/azureml_7fb315f76fab57ef94de3e09b3376b23/lib/python3.5/site-packages/matplotlib/mpl-data/fonts/ttf/DejaVuSerif-BoldItalic.ttf\n",
      "DEBUG:matplotlib.font_manager:trying fontname /home/mmlspark/lib/conda/envs/azureml_7fb315f76fab57ef94de3e09b3376b23/lib/python3.5/site-packages/matplotlib/mpl-data/fonts/ttf/STIXGeneralBolIta.ttf\n",
      "DEBUG:matplotlib.font_manager:trying fontname /home/mmlspark/lib/conda/envs/azureml_7fb315f76fab57ef94de3e09b3376b23/lib/python3.5/site-packages/matplotlib/mpl-data/fonts/ttf/cmss10.ttf\n",
      "DEBUG:matplotlib.font_manager:trying fontname /home/mmlspark/lib/conda/envs/azureml_7fb315f76fab57ef94de3e09b3376b23/lib/python3.5/site-packages/matplotlib/mpl-data/fonts/ttf/DejaVuSansMono-Oblique.ttf\n",
      "DEBUG:matplotlib.font_manager:trying fontname /home/mmlspark/lib/conda/envs/azureml_7fb315f76fab57ef94de3e09b3376b23/lib/python3.5/site-packages/matplotlib/mpl-data/fonts/ttf/DejaVuSans-BoldOblique.ttf\n",
      "DEBUG:matplotlib.font_manager:trying fontname /home/mmlspark/lib/conda/envs/azureml_7fb315f76fab57ef94de3e09b3376b23/lib/python3.5/site-packages/matplotlib/mpl-data/fonts/ttf/STIXNonUniBol.ttf\n",
      "DEBUG:matplotlib.font_manager:trying fontname /home/mmlspark/lib/conda/envs/azureml_7fb315f76fab57ef94de3e09b3376b23/lib/python3.5/site-packages/matplotlib/mpl-data/fonts/ttf/STIXNonUniIta.ttf\n",
      "DEBUG:matplotlib.font_manager:trying fontname /home/mmlspark/lib/conda/envs/azureml_7fb315f76fab57ef94de3e09b3376b23/lib/python3.5/site-packages/matplotlib/mpl-data/fonts/ttf/cmr10.ttf\n",
      "DEBUG:matplotlib.font_manager:trying fontname /home/mmlspark/lib/conda/envs/azureml_7fb315f76fab57ef94de3e09b3376b23/lib/python3.5/site-packages/matplotlib/mpl-data/fonts/ttf/STIXGeneralItalic.ttf\n",
      "DEBUG:matplotlib.font_manager:trying fontname /home/mmlspark/lib/conda/envs/azureml_7fb315f76fab57ef94de3e09b3376b23/lib/python3.5/site-packages/matplotlib/mpl-data/fonts/ttf/DejaVuSans.ttf\n",
      "DEBUG:matplotlib.font_manager:trying fontname /home/mmlspark/lib/conda/envs/azureml_7fb315f76fab57ef94de3e09b3376b23/lib/python3.5/site-packages/matplotlib/mpl-data/fonts/ttf/STIXNonUniBolIta.ttf\n",
      "DEBUG:matplotlib.font_manager:createFontDict: /home/mmlspark/lib/conda/envs/azureml_7fb315f76fab57ef94de3e09b3376b23/lib/python3.5/site-packages/matplotlib/mpl-data/fonts/ttf/cmb10.ttf\n",
      "DEBUG:matplotlib.font_manager:createFontDict: /home/mmlspark/lib/conda/envs/azureml_7fb315f76fab57ef94de3e09b3376b23/lib/python3.5/site-packages/matplotlib/mpl-data/fonts/ttf/cmsy10.ttf\n"
     ]
    },
    {
     "name": "stderr",
     "output_type": "stream",
     "text": [
      "DEBUG:matplotlib.font_manager:createFontDict: /home/mmlspark/lib/conda/envs/azureml_7fb315f76fab57ef94de3e09b3376b23/lib/python3.5/site-packages/matplotlib/mpl-data/fonts/ttf/DejaVuSans-Bold.ttf\n",
      "DEBUG:matplotlib.font_manager:createFontDict: /home/mmlspark/lib/conda/envs/azureml_7fb315f76fab57ef94de3e09b3376b23/lib/python3.5/site-packages/matplotlib/mpl-data/fonts/ttf/STIXGeneral.ttf\n",
      "DEBUG:matplotlib.font_manager:createFontDict: /home/mmlspark/lib/conda/envs/azureml_7fb315f76fab57ef94de3e09b3376b23/lib/python3.5/site-packages/matplotlib/mpl-data/fonts/ttf/STIXGeneralBol.ttf\n",
      "DEBUG:matplotlib.font_manager:createFontDict: /home/mmlspark/lib/conda/envs/azureml_7fb315f76fab57ef94de3e09b3376b23/lib/python3.5/site-packages/matplotlib/mpl-data/fonts/ttf/cmex10.ttf\n",
      "DEBUG:matplotlib.font_manager:createFontDict: /home/mmlspark/lib/conda/envs/azureml_7fb315f76fab57ef94de3e09b3376b23/lib/python3.5/site-packages/matplotlib/mpl-data/fonts/ttf/DejaVuSerif.ttf\n",
      "DEBUG:matplotlib.font_manager:createFontDict: /home/mmlspark/lib/conda/envs/azureml_7fb315f76fab57ef94de3e09b3376b23/lib/python3.5/site-packages/matplotlib/mpl-data/fonts/ttf/STIXSizThreeSymReg.ttf\n",
      "DEBUG:matplotlib.font_manager:createFontDict: /home/mmlspark/lib/conda/envs/azureml_7fb315f76fab57ef94de3e09b3376b23/lib/python3.5/site-packages/matplotlib/mpl-data/fonts/ttf/STIXSizThreeSymBol.ttf\n",
      "DEBUG:matplotlib.font_manager:createFontDict: /home/mmlspark/lib/conda/envs/azureml_7fb315f76fab57ef94de3e09b3376b23/lib/python3.5/site-packages/matplotlib/mpl-data/fonts/ttf/STIXSizFourSymBol.ttf\n",
      "DEBUG:matplotlib.font_manager:createFontDict: /home/mmlspark/lib/conda/envs/azureml_7fb315f76fab57ef94de3e09b3376b23/lib/python3.5/site-packages/matplotlib/mpl-data/fonts/ttf/DejaVuSerif-Italic.ttf\n",
      "DEBUG:matplotlib.font_manager:createFontDict: /home/mmlspark/lib/conda/envs/azureml_7fb315f76fab57ef94de3e09b3376b23/lib/python3.5/site-packages/matplotlib/mpl-data/fonts/ttf/DejaVuSansDisplay.ttf\n",
      "DEBUG:matplotlib.font_manager:createFontDict: /home/mmlspark/lib/conda/envs/azureml_7fb315f76fab57ef94de3e09b3376b23/lib/python3.5/site-packages/matplotlib/mpl-data/fonts/ttf/DejaVuSansMono-BoldOblique.ttf\n",
      "DEBUG:matplotlib.font_manager:createFontDict: /home/mmlspark/lib/conda/envs/azureml_7fb315f76fab57ef94de3e09b3376b23/lib/python3.5/site-packages/matplotlib/mpl-data/fonts/ttf/DejaVuSerif-Bold.ttf\n",
      "DEBUG:matplotlib.font_manager:createFontDict: /home/mmlspark/lib/conda/envs/azureml_7fb315f76fab57ef94de3e09b3376b23/lib/python3.5/site-packages/matplotlib/mpl-data/fonts/ttf/STIXSizOneSymBol.ttf\n",
      "DEBUG:matplotlib.font_manager:createFontDict: /home/mmlspark/lib/conda/envs/azureml_7fb315f76fab57ef94de3e09b3376b23/lib/python3.5/site-packages/matplotlib/mpl-data/fonts/ttf/DejaVuSerifDisplay.ttf\n",
      "DEBUG:matplotlib.font_manager:createFontDict: /home/mmlspark/lib/conda/envs/azureml_7fb315f76fab57ef94de3e09b3376b23/lib/python3.5/site-packages/matplotlib/mpl-data/fonts/ttf/DejaVuSansMono.ttf\n",
      "DEBUG:matplotlib.font_manager:createFontDict: /home/mmlspark/lib/conda/envs/azureml_7fb315f76fab57ef94de3e09b3376b23/lib/python3.5/site-packages/matplotlib/mpl-data/fonts/ttf/STIXSizFiveSymReg.ttf\n",
      "DEBUG:matplotlib.font_manager:createFontDict: /home/mmlspark/lib/conda/envs/azureml_7fb315f76fab57ef94de3e09b3376b23/lib/python3.5/site-packages/matplotlib/mpl-data/fonts/ttf/STIXSizTwoSymBol.ttf\n",
      "DEBUG:matplotlib.font_manager:createFontDict: /home/mmlspark/lib/conda/envs/azureml_7fb315f76fab57ef94de3e09b3376b23/lib/python3.5/site-packages/matplotlib/mpl-data/fonts/ttf/cmmi10.ttf\n",
      "DEBUG:matplotlib.font_manager:createFontDict: /home/mmlspark/lib/conda/envs/azureml_7fb315f76fab57ef94de3e09b3376b23/lib/python3.5/site-packages/matplotlib/mpl-data/fonts/ttf/cmtt10.ttf\n",
      "DEBUG:matplotlib.font_manager:createFontDict: /home/mmlspark/lib/conda/envs/azureml_7fb315f76fab57ef94de3e09b3376b23/lib/python3.5/site-packages/matplotlib/mpl-data/fonts/ttf/STIXNonUni.ttf\n",
      "DEBUG:matplotlib.font_manager:createFontDict: /home/mmlspark/lib/conda/envs/azureml_7fb315f76fab57ef94de3e09b3376b23/lib/python3.5/site-packages/matplotlib/mpl-data/fonts/ttf/DejaVuSans-Oblique.ttf\n",
      "DEBUG:matplotlib.font_manager:createFontDict: /home/mmlspark/lib/conda/envs/azureml_7fb315f76fab57ef94de3e09b3376b23/lib/python3.5/site-packages/matplotlib/mpl-data/fonts/ttf/STIXSizOneSymReg.ttf\n",
      "DEBUG:matplotlib.font_manager:createFontDict: /home/mmlspark/lib/conda/envs/azureml_7fb315f76fab57ef94de3e09b3376b23/lib/python3.5/site-packages/matplotlib/mpl-data/fonts/ttf/STIXSizTwoSymReg.ttf\n",
      "DEBUG:matplotlib.font_manager:createFontDict: /home/mmlspark/lib/conda/envs/azureml_7fb315f76fab57ef94de3e09b3376b23/lib/python3.5/site-packages/matplotlib/mpl-data/fonts/ttf/STIXSizFourSymReg.ttf\n",
      "DEBUG:matplotlib.font_manager:createFontDict: /home/mmlspark/lib/conda/envs/azureml_7fb315f76fab57ef94de3e09b3376b23/lib/python3.5/site-packages/matplotlib/mpl-data/fonts/ttf/DejaVuSansMono-Bold.ttf\n",
      "DEBUG:matplotlib.font_manager:createFontDict: /home/mmlspark/lib/conda/envs/azureml_7fb315f76fab57ef94de3e09b3376b23/lib/python3.5/site-packages/matplotlib/mpl-data/fonts/ttf/DejaVuSerif-BoldItalic.ttf\n",
      "DEBUG:matplotlib.font_manager:createFontDict: /home/mmlspark/lib/conda/envs/azureml_7fb315f76fab57ef94de3e09b3376b23/lib/python3.5/site-packages/matplotlib/mpl-data/fonts/ttf/STIXGeneralBolIta.ttf\n",
      "DEBUG:matplotlib.font_manager:createFontDict: /home/mmlspark/lib/conda/envs/azureml_7fb315f76fab57ef94de3e09b3376b23/lib/python3.5/site-packages/matplotlib/mpl-data/fonts/ttf/cmss10.ttf\n",
      "DEBUG:matplotlib.font_manager:createFontDict: /home/mmlspark/lib/conda/envs/azureml_7fb315f76fab57ef94de3e09b3376b23/lib/python3.5/site-packages/matplotlib/mpl-data/fonts/ttf/DejaVuSansMono-Oblique.ttf\n",
      "DEBUG:matplotlib.font_manager:createFontDict: /home/mmlspark/lib/conda/envs/azureml_7fb315f76fab57ef94de3e09b3376b23/lib/python3.5/site-packages/matplotlib/mpl-data/fonts/ttf/DejaVuSans-BoldOblique.ttf\n",
      "DEBUG:matplotlib.font_manager:createFontDict: /home/mmlspark/lib/conda/envs/azureml_7fb315f76fab57ef94de3e09b3376b23/lib/python3.5/site-packages/matplotlib/mpl-data/fonts/ttf/STIXNonUniBol.ttf\n",
      "DEBUG:matplotlib.font_manager:createFontDict: /home/mmlspark/lib/conda/envs/azureml_7fb315f76fab57ef94de3e09b3376b23/lib/python3.5/site-packages/matplotlib/mpl-data/fonts/ttf/STIXNonUniIta.ttf\n",
      "DEBUG:matplotlib.font_manager:createFontDict: /home/mmlspark/lib/conda/envs/azureml_7fb315f76fab57ef94de3e09b3376b23/lib/python3.5/site-packages/matplotlib/mpl-data/fonts/ttf/cmr10.ttf\n",
      "DEBUG:matplotlib.font_manager:createFontDict: /home/mmlspark/lib/conda/envs/azureml_7fb315f76fab57ef94de3e09b3376b23/lib/python3.5/site-packages/matplotlib/mpl-data/fonts/ttf/STIXGeneralItalic.ttf\n",
      "DEBUG:matplotlib.font_manager:createFontDict: /home/mmlspark/lib/conda/envs/azureml_7fb315f76fab57ef94de3e09b3376b23/lib/python3.5/site-packages/matplotlib/mpl-data/fonts/ttf/DejaVuSans.ttf\n",
      "DEBUG:matplotlib.font_manager:createFontDict: /home/mmlspark/lib/conda/envs/azureml_7fb315f76fab57ef94de3e09b3376b23/lib/python3.5/site-packages/matplotlib/mpl-data/fonts/ttf/STIXNonUniBolIta.ttf\n",
      "DEBUG:matplotlib.font_manager:createFontDict: /home/mmlspark/lib/conda/envs/azureml_7fb315f76fab57ef94de3e09b3376b23/lib/python3.5/site-packages/matplotlib/mpl-data/fonts/afm/phvbo8an.afm\n",
      "DEBUG:matplotlib.font_manager:createFontDict: /home/mmlspark/lib/conda/envs/azureml_7fb315f76fab57ef94de3e09b3376b23/lib/python3.5/site-packages/matplotlib/mpl-data/fonts/afm/cmex10.afm\n",
      "DEBUG:matplotlib.font_manager:createFontDict: /home/mmlspark/lib/conda/envs/azureml_7fb315f76fab57ef94de3e09b3376b23/lib/python3.5/site-packages/matplotlib/mpl-data/fonts/pdfcorefonts/Courier.afm\n",
      "DEBUG:matplotlib.font_manager:createFontDict: /home/mmlspark/lib/conda/envs/azureml_7fb315f76fab57ef94de3e09b3376b23/lib/python3.5/site-packages/matplotlib/mpl-data/fonts/afm/phvb8a.afm\n",
      "DEBUG:matplotlib.font_manager:createFontDict: /home/mmlspark/lib/conda/envs/azureml_7fb315f76fab57ef94de3e09b3376b23/lib/python3.5/site-packages/matplotlib/mpl-data/fonts/afm/pbkli8a.afm\n",
      "DEBUG:matplotlib.font_manager:createFontDict: /home/mmlspark/lib/conda/envs/azureml_7fb315f76fab57ef94de3e09b3376b23/lib/python3.5/site-packages/matplotlib/mpl-data/fonts/pdfcorefonts/Courier-BoldOblique.afm\n",
      "DEBUG:matplotlib.font_manager:createFontDict: /home/mmlspark/lib/conda/envs/azureml_7fb315f76fab57ef94de3e09b3376b23/lib/python3.5/site-packages/matplotlib/mpl-data/fonts/afm/pncr8a.afm\n"
     ]
    },
    {
     "name": "stderr",
     "output_type": "stream",
     "text": [
      "DEBUG:matplotlib.font_manager:createFontDict: /home/mmlspark/lib/conda/envs/azureml_7fb315f76fab57ef94de3e09b3376b23/lib/python3.5/site-packages/matplotlib/mpl-data/fonts/afm/phvr8an.afm\n",
      "DEBUG:matplotlib.font_manager:createFontDict: /home/mmlspark/lib/conda/envs/azureml_7fb315f76fab57ef94de3e09b3376b23/lib/python3.5/site-packages/matplotlib/mpl-data/fonts/afm/pplb8a.afm\n",
      "DEBUG:matplotlib.font_manager:createFontDict: /home/mmlspark/lib/conda/envs/azureml_7fb315f76fab57ef94de3e09b3376b23/lib/python3.5/site-packages/matplotlib/mpl-data/fonts/pdfcorefonts/Courier-Oblique.afm\n",
      "DEBUG:matplotlib.font_manager:createFontDict: /home/mmlspark/lib/conda/envs/azureml_7fb315f76fab57ef94de3e09b3376b23/lib/python3.5/site-packages/matplotlib/mpl-data/fonts/afm/pbkdi8a.afm\n",
      "DEBUG:matplotlib.font_manager:createFontDict: /home/mmlspark/lib/conda/envs/azureml_7fb315f76fab57ef94de3e09b3376b23/lib/python3.5/site-packages/matplotlib/mpl-data/fonts/pdfcorefonts/ZapfDingbats.afm\n",
      "DEBUG:matplotlib.font_manager:createFontDict: /home/mmlspark/lib/conda/envs/azureml_7fb315f76fab57ef94de3e09b3376b23/lib/python3.5/site-packages/matplotlib/mpl-data/fonts/pdfcorefonts/Times-BoldItalic.afm\n",
      "DEBUG:matplotlib.font_manager:createFontDict: /home/mmlspark/lib/conda/envs/azureml_7fb315f76fab57ef94de3e09b3376b23/lib/python3.5/site-packages/matplotlib/mpl-data/fonts/afm/cmsy10.afm\n",
      "DEBUG:matplotlib.font_manager:createFontDict: /home/mmlspark/lib/conda/envs/azureml_7fb315f76fab57ef94de3e09b3376b23/lib/python3.5/site-packages/matplotlib/mpl-data/fonts/afm/phvlo8a.afm\n",
      "DEBUG:matplotlib.font_manager:createFontDict: /home/mmlspark/lib/conda/envs/azureml_7fb315f76fab57ef94de3e09b3376b23/lib/python3.5/site-packages/matplotlib/mpl-data/fonts/afm/pbkd8a.afm\n",
      "DEBUG:matplotlib.font_manager:createFontDict: /home/mmlspark/lib/conda/envs/azureml_7fb315f76fab57ef94de3e09b3376b23/lib/python3.5/site-packages/matplotlib/mpl-data/fonts/afm/phvb8an.afm\n",
      "DEBUG:matplotlib.font_manager:createFontDict: /home/mmlspark/lib/conda/envs/azureml_7fb315f76fab57ef94de3e09b3376b23/lib/python3.5/site-packages/matplotlib/mpl-data/fonts/afm/phvbo8a.afm\n",
      "DEBUG:matplotlib.font_manager:createFontDict: /home/mmlspark/lib/conda/envs/azureml_7fb315f76fab57ef94de3e09b3376b23/lib/python3.5/site-packages/matplotlib/mpl-data/fonts/afm/ptmbi8a.afm\n",
      "DEBUG:matplotlib.font_manager:createFontDict: /home/mmlspark/lib/conda/envs/azureml_7fb315f76fab57ef94de3e09b3376b23/lib/python3.5/site-packages/matplotlib/mpl-data/fonts/afm/ptmri8a.afm\n",
      "DEBUG:matplotlib.font_manager:createFontDict: /home/mmlspark/lib/conda/envs/azureml_7fb315f76fab57ef94de3e09b3376b23/lib/python3.5/site-packages/matplotlib/mpl-data/fonts/afm/cmr10.afm\n",
      "DEBUG:matplotlib.font_manager:createFontDict: /home/mmlspark/lib/conda/envs/azureml_7fb315f76fab57ef94de3e09b3376b23/lib/python3.5/site-packages/matplotlib/mpl-data/fonts/afm/pcrr8a.afm\n",
      "DEBUG:matplotlib.font_manager:createFontDict: /home/mmlspark/lib/conda/envs/azureml_7fb315f76fab57ef94de3e09b3376b23/lib/python3.5/site-packages/matplotlib/mpl-data/fonts/afm/pagd8a.afm\n",
      "DEBUG:matplotlib.font_manager:createFontDict: /home/mmlspark/lib/conda/envs/azureml_7fb315f76fab57ef94de3e09b3376b23/lib/python3.5/site-packages/matplotlib/mpl-data/fonts/afm/ptmr8a.afm\n",
      "DEBUG:matplotlib.font_manager:createFontDict: /home/mmlspark/lib/conda/envs/azureml_7fb315f76fab57ef94de3e09b3376b23/lib/python3.5/site-packages/matplotlib/mpl-data/fonts/afm/cmmi10.afm\n",
      "DEBUG:matplotlib.font_manager:createFontDict: /home/mmlspark/lib/conda/envs/azureml_7fb315f76fab57ef94de3e09b3376b23/lib/python3.5/site-packages/matplotlib/mpl-data/fonts/pdfcorefonts/Times-Italic.afm\n",
      "DEBUG:matplotlib.font_manager:createFontDict: /home/mmlspark/lib/conda/envs/azureml_7fb315f76fab57ef94de3e09b3376b23/lib/python3.5/site-packages/matplotlib/mpl-data/fonts/afm/phvl8a.afm\n",
      "DEBUG:matplotlib.font_manager:createFontDict: /home/mmlspark/lib/conda/envs/azureml_7fb315f76fab57ef94de3e09b3376b23/lib/python3.5/site-packages/matplotlib/mpl-data/fonts/afm/phvr8a.afm\n",
      "DEBUG:matplotlib.font_manager:createFontDict: /home/mmlspark/lib/conda/envs/azureml_7fb315f76fab57ef94de3e09b3376b23/lib/python3.5/site-packages/matplotlib/mpl-data/fonts/afm/putb8a.afm\n",
      "DEBUG:matplotlib.font_manager:createFontDict: /home/mmlspark/lib/conda/envs/azureml_7fb315f76fab57ef94de3e09b3376b23/lib/python3.5/site-packages/matplotlib/mpl-data/fonts/afm/ptmb8a.afm\n",
      "DEBUG:matplotlib.font_manager:createFontDict: /home/mmlspark/lib/conda/envs/azureml_7fb315f76fab57ef94de3e09b3376b23/lib/python3.5/site-packages/matplotlib/mpl-data/fonts/afm/pbkl8a.afm\n",
      "DEBUG:matplotlib.font_manager:createFontDict: /home/mmlspark/lib/conda/envs/azureml_7fb315f76fab57ef94de3e09b3376b23/lib/python3.5/site-packages/matplotlib/mpl-data/fonts/pdfcorefonts/Helvetica.afm\n",
      "DEBUG:matplotlib.font_manager:createFontDict: /home/mmlspark/lib/conda/envs/azureml_7fb315f76fab57ef94de3e09b3376b23/lib/python3.5/site-packages/matplotlib/mpl-data/fonts/pdfcorefonts/Courier-Bold.afm\n",
      "DEBUG:matplotlib.font_manager:createFontDict: /home/mmlspark/lib/conda/envs/azureml_7fb315f76fab57ef94de3e09b3376b23/lib/python3.5/site-packages/matplotlib/mpl-data/fonts/afm/cmtt10.afm\n",
      "DEBUG:matplotlib.font_manager:createFontDict: /home/mmlspark/lib/conda/envs/azureml_7fb315f76fab57ef94de3e09b3376b23/lib/python3.5/site-packages/matplotlib/mpl-data/fonts/afm/putri8a.afm\n",
      "DEBUG:matplotlib.font_manager:createFontDict: /home/mmlspark/lib/conda/envs/azureml_7fb315f76fab57ef94de3e09b3376b23/lib/python3.5/site-packages/matplotlib/mpl-data/fonts/afm/pplri8a.afm\n",
      "DEBUG:matplotlib.font_manager:createFontDict: /home/mmlspark/lib/conda/envs/azureml_7fb315f76fab57ef94de3e09b3376b23/lib/python3.5/site-packages/matplotlib/mpl-data/fonts/pdfcorefonts/Times-Roman.afm\n",
      "DEBUG:matplotlib.font_manager:createFontDict: /home/mmlspark/lib/conda/envs/azureml_7fb315f76fab57ef94de3e09b3376b23/lib/python3.5/site-packages/matplotlib/mpl-data/fonts/afm/phvro8an.afm\n",
      "DEBUG:matplotlib.font_manager:createFontDict: /home/mmlspark/lib/conda/envs/azureml_7fb315f76fab57ef94de3e09b3376b23/lib/python3.5/site-packages/matplotlib/mpl-data/fonts/afm/pzcmi8a.afm\n",
      "DEBUG:matplotlib.font_manager:createFontDict: /home/mmlspark/lib/conda/envs/azureml_7fb315f76fab57ef94de3e09b3376b23/lib/python3.5/site-packages/matplotlib/mpl-data/fonts/afm/pncb8a.afm\n",
      "DEBUG:matplotlib.font_manager:createFontDict: /home/mmlspark/lib/conda/envs/azureml_7fb315f76fab57ef94de3e09b3376b23/lib/python3.5/site-packages/matplotlib/mpl-data/fonts/pdfcorefonts/Times-Bold.afm\n",
      "DEBUG:matplotlib.font_manager:createFontDict: /home/mmlspark/lib/conda/envs/azureml_7fb315f76fab57ef94de3e09b3376b23/lib/python3.5/site-packages/matplotlib/mpl-data/fonts/afm/pcrbo8a.afm\n",
      "DEBUG:matplotlib.font_manager:createFontDict: /home/mmlspark/lib/conda/envs/azureml_7fb315f76fab57ef94de3e09b3376b23/lib/python3.5/site-packages/matplotlib/mpl-data/fonts/pdfcorefonts/Helvetica-Oblique.afm\n",
      "DEBUG:matplotlib.font_manager:createFontDict: /home/mmlspark/lib/conda/envs/azureml_7fb315f76fab57ef94de3e09b3376b23/lib/python3.5/site-packages/matplotlib/mpl-data/fonts/pdfcorefonts/Helvetica-BoldOblique.afm\n",
      "DEBUG:matplotlib.font_manager:createFontDict: /home/mmlspark/lib/conda/envs/azureml_7fb315f76fab57ef94de3e09b3376b23/lib/python3.5/site-packages/matplotlib/mpl-data/fonts/afm/putbi8a.afm\n",
      "DEBUG:matplotlib.font_manager:createFontDict: /home/mmlspark/lib/conda/envs/azureml_7fb315f76fab57ef94de3e09b3376b23/lib/python3.5/site-packages/matplotlib/mpl-data/fonts/afm/pagdo8a.afm\n",
      "DEBUG:matplotlib.font_manager:createFontDict: /home/mmlspark/lib/conda/envs/azureml_7fb315f76fab57ef94de3e09b3376b23/lib/python3.5/site-packages/matplotlib/mpl-data/fonts/afm/phvro8a.afm\n",
      "DEBUG:matplotlib.font_manager:createFontDict: /home/mmlspark/lib/conda/envs/azureml_7fb315f76fab57ef94de3e09b3376b23/lib/python3.5/site-packages/matplotlib/mpl-data/fonts/afm/pcrb8a.afm\n",
      "DEBUG:matplotlib.font_manager:createFontDict: /home/mmlspark/lib/conda/envs/azureml_7fb315f76fab57ef94de3e09b3376b23/lib/python3.5/site-packages/matplotlib/mpl-data/fonts/pdfcorefonts/Helvetica-Bold.afm\n",
      "DEBUG:matplotlib.font_manager:createFontDict: /home/mmlspark/lib/conda/envs/azureml_7fb315f76fab57ef94de3e09b3376b23/lib/python3.5/site-packages/matplotlib/mpl-data/fonts/afm/pplr8a.afm\n"
     ]
    },
    {
     "name": "stderr",
     "output_type": "stream",
     "text": [
      "DEBUG:matplotlib.font_manager:createFontDict: /home/mmlspark/lib/conda/envs/azureml_7fb315f76fab57ef94de3e09b3376b23/lib/python3.5/site-packages/matplotlib/mpl-data/fonts/afm/pagko8a.afm\n",
      "DEBUG:matplotlib.font_manager:createFontDict: /home/mmlspark/lib/conda/envs/azureml_7fb315f76fab57ef94de3e09b3376b23/lib/python3.5/site-packages/matplotlib/mpl-data/fonts/afm/pncbi8a.afm\n",
      "DEBUG:matplotlib.font_manager:createFontDict: /home/mmlspark/lib/conda/envs/azureml_7fb315f76fab57ef94de3e09b3376b23/lib/python3.5/site-packages/matplotlib/mpl-data/fonts/pdfcorefonts/Symbol.afm\n",
      "DEBUG:matplotlib.font_manager:createFontDict: /home/mmlspark/lib/conda/envs/azureml_7fb315f76fab57ef94de3e09b3376b23/lib/python3.5/site-packages/matplotlib/mpl-data/fonts/afm/putr8a.afm\n",
      "DEBUG:matplotlib.font_manager:createFontDict: /home/mmlspark/lib/conda/envs/azureml_7fb315f76fab57ef94de3e09b3376b23/lib/python3.5/site-packages/matplotlib/mpl-data/fonts/afm/pncri8a.afm\n",
      "DEBUG:matplotlib.font_manager:createFontDict: /home/mmlspark/lib/conda/envs/azureml_7fb315f76fab57ef94de3e09b3376b23/lib/python3.5/site-packages/matplotlib/mpl-data/fonts/afm/pagk8a.afm\n",
      "DEBUG:matplotlib.font_manager:createFontDict: /home/mmlspark/lib/conda/envs/azureml_7fb315f76fab57ef94de3e09b3376b23/lib/python3.5/site-packages/matplotlib/mpl-data/fonts/afm/pplbi8a.afm\n",
      "DEBUG:matplotlib.font_manager:createFontDict: /home/mmlspark/lib/conda/envs/azureml_7fb315f76fab57ef94de3e09b3376b23/lib/python3.5/site-packages/matplotlib/mpl-data/fonts/afm/pzdr.afm\n",
      "DEBUG:matplotlib.font_manager:createFontDict: /home/mmlspark/lib/conda/envs/azureml_7fb315f76fab57ef94de3e09b3376b23/lib/python3.5/site-packages/matplotlib/mpl-data/fonts/afm/psyr.afm\n",
      "DEBUG:matplotlib.font_manager:createFontDict: /home/mmlspark/lib/conda/envs/azureml_7fb315f76fab57ef94de3e09b3376b23/lib/python3.5/site-packages/matplotlib/mpl-data/fonts/afm/pcrro8a.afm\n",
      "INFO:matplotlib.font_manager:generated new fontManager\n"
     ]
    },
    {
     "ename": "ImportError",
     "evalue": "libX11.so.6: cannot open shared object file: No such file or directory",
     "output_type": "error",
     "traceback": [
      "\u001b[0;31m---------------------------------------------------------------------------\u001b[0m",
      "\u001b[0;31mImportError\u001b[0m                               Traceback (most recent call last)",
      "\u001b[0;32m<ipython-input-5-b49ddc860e2d>\u001b[0m in \u001b[0;36m<module>\u001b[0;34m()\u001b[0m\n\u001b[0;32m----> 1\u001b[0;31m \u001b[0;32mfrom\u001b[0m \u001b[0mtesting_utilities\u001b[0m \u001b[0;32mimport\u001b[0m \u001b[0mimg_url_to_json\u001b[0m\u001b[0;34m\u001b[0m\u001b[0m\n\u001b[0m",
      "\u001b[0;32m/azureml-run/testing_utilities.py\u001b[0m in \u001b[0;36m<module>\u001b[0;34m()\u001b[0m\n\u001b[1;32m      5\u001b[0m \u001b[0;34m\u001b[0m\u001b[0m\n\u001b[1;32m      6\u001b[0m \u001b[0;32mimport\u001b[0m \u001b[0mmatplotlib\u001b[0m\u001b[0;34m.\u001b[0m\u001b[0mgridspec\u001b[0m \u001b[0;32mas\u001b[0m \u001b[0mgridspec\u001b[0m\u001b[0;34m\u001b[0m\u001b[0m\n\u001b[0;32m----> 7\u001b[0;31m \u001b[0;32mimport\u001b[0m \u001b[0mmatplotlib\u001b[0m\u001b[0;34m.\u001b[0m\u001b[0mpyplot\u001b[0m \u001b[0;32mas\u001b[0m \u001b[0mplt\u001b[0m\u001b[0;34m\u001b[0m\u001b[0m\n\u001b[0m\u001b[1;32m      8\u001b[0m \u001b[0;32mimport\u001b[0m \u001b[0mtoolz\u001b[0m\u001b[0;34m\u001b[0m\u001b[0m\n\u001b[1;32m      9\u001b[0m \u001b[0;32mfrom\u001b[0m \u001b[0mPIL\u001b[0m \u001b[0;32mimport\u001b[0m \u001b[0mImage\u001b[0m\u001b[0;34m,\u001b[0m \u001b[0mImageOps\u001b[0m\u001b[0;34m\u001b[0m\u001b[0m\n",
      "\u001b[0;32m~/lib/conda/envs/azureml_7fb315f76fab57ef94de3e09b3376b23/lib/python3.5/site-packages/matplotlib/pyplot.py\u001b[0m in \u001b[0;36m<module>\u001b[0;34m()\u001b[0m\n\u001b[1;32m    113\u001b[0m \u001b[0;31m## Global ##\u001b[0m\u001b[0;34m\u001b[0m\u001b[0;34m\u001b[0m\u001b[0m\n\u001b[1;32m    114\u001b[0m \u001b[0;34m\u001b[0m\u001b[0m\n\u001b[0;32m--> 115\u001b[0;31m \u001b[0m_backend_mod\u001b[0m\u001b[0;34m,\u001b[0m \u001b[0mnew_figure_manager\u001b[0m\u001b[0;34m,\u001b[0m \u001b[0mdraw_if_interactive\u001b[0m\u001b[0;34m,\u001b[0m \u001b[0m_show\u001b[0m \u001b[0;34m=\u001b[0m \u001b[0mpylab_setup\u001b[0m\u001b[0;34m(\u001b[0m\u001b[0;34m)\u001b[0m\u001b[0;34m\u001b[0m\u001b[0m\n\u001b[0m\u001b[1;32m    116\u001b[0m \u001b[0;34m\u001b[0m\u001b[0m\n\u001b[1;32m    117\u001b[0m \u001b[0m_IP_REGISTERED\u001b[0m \u001b[0;34m=\u001b[0m \u001b[0;32mNone\u001b[0m\u001b[0;34m\u001b[0m\u001b[0m\n",
      "\u001b[0;32m~/lib/conda/envs/azureml_7fb315f76fab57ef94de3e09b3376b23/lib/python3.5/site-packages/matplotlib/backends/__init__.py\u001b[0m in \u001b[0;36mpylab_setup\u001b[0;34m(name)\u001b[0m\n\u001b[1;32m     60\u001b[0m     \u001b[0;31m# imports. 0 means only perform absolute imports.\u001b[0m\u001b[0;34m\u001b[0m\u001b[0;34m\u001b[0m\u001b[0m\n\u001b[1;32m     61\u001b[0m     backend_mod = __import__(backend_name, globals(), locals(),\n\u001b[0;32m---> 62\u001b[0;31m                              [backend_name], 0)\n\u001b[0m\u001b[1;32m     63\u001b[0m \u001b[0;34m\u001b[0m\u001b[0m\n\u001b[1;32m     64\u001b[0m     \u001b[0;31m# Things we pull in from all backends\u001b[0m\u001b[0;34m\u001b[0m\u001b[0;34m\u001b[0m\u001b[0m\n",
      "\u001b[0;32m~/lib/conda/envs/azureml_7fb315f76fab57ef94de3e09b3376b23/lib/python3.5/site-packages/matplotlib/backends/backend_tkagg.py\u001b[0m in \u001b[0;36m<module>\u001b[0;34m()\u001b[0m\n\u001b[1;32m      2\u001b[0m \u001b[0;34m\u001b[0m\u001b[0m\n\u001b[1;32m      3\u001b[0m \u001b[0;32mfrom\u001b[0m \u001b[0;34m.\u001b[0m\u001b[0;34m.\u001b[0m \u001b[0;32mimport\u001b[0m \u001b[0mcbook\u001b[0m\u001b[0;34m\u001b[0m\u001b[0m\n\u001b[0;32m----> 4\u001b[0;31m \u001b[0;32mfrom\u001b[0m \u001b[0;34m.\u001b[0m \u001b[0;32mimport\u001b[0m \u001b[0mtkagg\u001b[0m  \u001b[0;31m# Paint image to Tk photo blitter extension.\u001b[0m\u001b[0;34m\u001b[0m\u001b[0m\n\u001b[0m\u001b[1;32m      5\u001b[0m \u001b[0;32mfrom\u001b[0m \u001b[0;34m.\u001b[0m\u001b[0mbackend_agg\u001b[0m \u001b[0;32mimport\u001b[0m \u001b[0mFigureCanvasAgg\u001b[0m\u001b[0;34m\u001b[0m\u001b[0m\n\u001b[1;32m      6\u001b[0m from ._backend_tk import (\n",
      "\u001b[0;32m~/lib/conda/envs/azureml_7fb315f76fab57ef94de3e09b3376b23/lib/python3.5/site-packages/matplotlib/backends/tkagg.py\u001b[0m in \u001b[0;36m<module>\u001b[0;34m()\u001b[0m\n\u001b[1;32m      3\u001b[0m \u001b[0;34m\u001b[0m\u001b[0m\n\u001b[1;32m      4\u001b[0m \u001b[0;32mimport\u001b[0m \u001b[0msix\u001b[0m\u001b[0;34m\u001b[0m\u001b[0m\n\u001b[0;32m----> 5\u001b[0;31m \u001b[0;32mfrom\u001b[0m \u001b[0msix\u001b[0m\u001b[0;34m.\u001b[0m\u001b[0mmoves\u001b[0m \u001b[0;32mimport\u001b[0m \u001b[0mtkinter\u001b[0m \u001b[0;32mas\u001b[0m \u001b[0mTk\u001b[0m\u001b[0;34m\u001b[0m\u001b[0m\n\u001b[0m\u001b[1;32m      6\u001b[0m \u001b[0;34m\u001b[0m\u001b[0m\n\u001b[1;32m      7\u001b[0m \u001b[0;32mimport\u001b[0m \u001b[0mnumpy\u001b[0m \u001b[0;32mas\u001b[0m \u001b[0mnp\u001b[0m\u001b[0;34m\u001b[0m\u001b[0m\n",
      "\u001b[0;32m~/lib/conda/envs/azureml_7fb315f76fab57ef94de3e09b3376b23/lib/python3.5/site-packages/six.py\u001b[0m in \u001b[0;36m__get__\u001b[0;34m(self, obj, tp)\u001b[0m\n\u001b[1;32m     90\u001b[0m \u001b[0;34m\u001b[0m\u001b[0m\n\u001b[1;32m     91\u001b[0m     \u001b[0;32mdef\u001b[0m \u001b[0m__get__\u001b[0m\u001b[0;34m(\u001b[0m\u001b[0mself\u001b[0m\u001b[0;34m,\u001b[0m \u001b[0mobj\u001b[0m\u001b[0;34m,\u001b[0m \u001b[0mtp\u001b[0m\u001b[0;34m)\u001b[0m\u001b[0;34m:\u001b[0m\u001b[0;34m\u001b[0m\u001b[0m\n\u001b[0;32m---> 92\u001b[0;31m         \u001b[0mresult\u001b[0m \u001b[0;34m=\u001b[0m \u001b[0mself\u001b[0m\u001b[0;34m.\u001b[0m\u001b[0m_resolve\u001b[0m\u001b[0;34m(\u001b[0m\u001b[0;34m)\u001b[0m\u001b[0;34m\u001b[0m\u001b[0m\n\u001b[0m\u001b[1;32m     93\u001b[0m         \u001b[0msetattr\u001b[0m\u001b[0;34m(\u001b[0m\u001b[0mobj\u001b[0m\u001b[0;34m,\u001b[0m \u001b[0mself\u001b[0m\u001b[0;34m.\u001b[0m\u001b[0mname\u001b[0m\u001b[0;34m,\u001b[0m \u001b[0mresult\u001b[0m\u001b[0;34m)\u001b[0m  \u001b[0;31m# Invokes __set__.\u001b[0m\u001b[0;34m\u001b[0m\u001b[0m\n\u001b[1;32m     94\u001b[0m         \u001b[0;32mtry\u001b[0m\u001b[0;34m:\u001b[0m\u001b[0;34m\u001b[0m\u001b[0m\n",
      "\u001b[0;32m~/lib/conda/envs/azureml_7fb315f76fab57ef94de3e09b3376b23/lib/python3.5/site-packages/six.py\u001b[0m in \u001b[0;36m_resolve\u001b[0;34m(self)\u001b[0m\n\u001b[1;32m    113\u001b[0m \u001b[0;34m\u001b[0m\u001b[0m\n\u001b[1;32m    114\u001b[0m     \u001b[0;32mdef\u001b[0m \u001b[0m_resolve\u001b[0m\u001b[0;34m(\u001b[0m\u001b[0mself\u001b[0m\u001b[0;34m)\u001b[0m\u001b[0;34m:\u001b[0m\u001b[0;34m\u001b[0m\u001b[0m\n\u001b[0;32m--> 115\u001b[0;31m         \u001b[0;32mreturn\u001b[0m \u001b[0m_import_module\u001b[0m\u001b[0;34m(\u001b[0m\u001b[0mself\u001b[0m\u001b[0;34m.\u001b[0m\u001b[0mmod\u001b[0m\u001b[0;34m)\u001b[0m\u001b[0;34m\u001b[0m\u001b[0m\n\u001b[0m\u001b[1;32m    116\u001b[0m \u001b[0;34m\u001b[0m\u001b[0m\n\u001b[1;32m    117\u001b[0m     \u001b[0;32mdef\u001b[0m \u001b[0m__getattr__\u001b[0m\u001b[0;34m(\u001b[0m\u001b[0mself\u001b[0m\u001b[0;34m,\u001b[0m \u001b[0mattr\u001b[0m\u001b[0;34m)\u001b[0m\u001b[0;34m:\u001b[0m\u001b[0;34m\u001b[0m\u001b[0m\n",
      "\u001b[0;32m~/lib/conda/envs/azureml_7fb315f76fab57ef94de3e09b3376b23/lib/python3.5/site-packages/six.py\u001b[0m in \u001b[0;36m_import_module\u001b[0;34m(name)\u001b[0m\n\u001b[1;32m     80\u001b[0m \u001b[0;32mdef\u001b[0m \u001b[0m_import_module\u001b[0m\u001b[0;34m(\u001b[0m\u001b[0mname\u001b[0m\u001b[0;34m)\u001b[0m\u001b[0;34m:\u001b[0m\u001b[0;34m\u001b[0m\u001b[0m\n\u001b[1;32m     81\u001b[0m     \u001b[0;34m\"\"\"Import module, returning the module after the last dot.\"\"\"\u001b[0m\u001b[0;34m\u001b[0m\u001b[0m\n\u001b[0;32m---> 82\u001b[0;31m     \u001b[0m__import__\u001b[0m\u001b[0;34m(\u001b[0m\u001b[0mname\u001b[0m\u001b[0;34m)\u001b[0m\u001b[0;34m\u001b[0m\u001b[0m\n\u001b[0m\u001b[1;32m     83\u001b[0m     \u001b[0;32mreturn\u001b[0m \u001b[0msys\u001b[0m\u001b[0;34m.\u001b[0m\u001b[0mmodules\u001b[0m\u001b[0;34m[\u001b[0m\u001b[0mname\u001b[0m\u001b[0;34m]\u001b[0m\u001b[0;34m\u001b[0m\u001b[0m\n\u001b[1;32m     84\u001b[0m \u001b[0;34m\u001b[0m\u001b[0m\n",
      "\u001b[0;32m~/lib/conda/envs/azureml_7fb315f76fab57ef94de3e09b3376b23/lib/python3.5/tkinter/__init__.py\u001b[0m in \u001b[0;36m<module>\u001b[0;34m()\u001b[0m\n\u001b[1;32m     33\u001b[0m \u001b[0;32mimport\u001b[0m \u001b[0msys\u001b[0m\u001b[0;34m\u001b[0m\u001b[0m\n\u001b[1;32m     34\u001b[0m \u001b[0;34m\u001b[0m\u001b[0m\n\u001b[0;32m---> 35\u001b[0;31m \u001b[0;32mimport\u001b[0m \u001b[0m_tkinter\u001b[0m \u001b[0;31m# If this fails your Python may not be configured for Tk\u001b[0m\u001b[0;34m\u001b[0m\u001b[0m\n\u001b[0m\u001b[1;32m     36\u001b[0m \u001b[0mTclError\u001b[0m \u001b[0;34m=\u001b[0m \u001b[0m_tkinter\u001b[0m\u001b[0;34m.\u001b[0m\u001b[0mTclError\u001b[0m\u001b[0;34m\u001b[0m\u001b[0m\n\u001b[1;32m     37\u001b[0m \u001b[0;32mfrom\u001b[0m \u001b[0mtkinter\u001b[0m\u001b[0;34m.\u001b[0m\u001b[0mconstants\u001b[0m \u001b[0;32mimport\u001b[0m \u001b[0;34m*\u001b[0m\u001b[0;34m\u001b[0m\u001b[0m\n",
      "\u001b[0;31mImportError\u001b[0m: libX11.so.6: cannot open shared object file: No such file or directory"
     ]
    },
    {
     "name": "stderr",
     "output_type": "stream",
     "text": [
      "DEBUG:urllib3.connectionpool:Resetting dropped connection: eastus2.experiments.azureml.net\n",
      "DEBUG:urllib3.connectionpool:https://eastus2.experiments.azureml.net:443 \"POST /history/v1.0/subscriptions/f869415f-5cff-46a3-b728-20659d14d62d/resourceGroups/ML/providers/Microsoft.MachineLearningExperimentation/accounts/mldemo/workspaces/ElenaWorkspace/projects/Tensorflow/runs/Tensorflow_1526053297391/events HTTP/1.1\" 200 0\n",
      "DEBUG:urllib3.connectionpool:Resetting dropped connection: eastus2.experiments.azureml.net\n",
      "DEBUG:urllib3.connectionpool:https://eastus2.experiments.azureml.net:443 \"POST /history/v1.0/subscriptions/f869415f-5cff-46a3-b728-20659d14d62d/resourceGroups/ML/providers/Microsoft.MachineLearningExperimentation/accounts/mldemo/workspaces/ElenaWorkspace/projects/Tensorflow/runs/Tensorflow_1526053297391/events HTTP/1.1\" 200 0\n"
     ]
    }
   ],
   "source": [
    "\n",
    "from testing_utilities import img_url_to_json"
   ]
  },
  {
   "cell_type": "code",
   "execution_count": null,
   "metadata": {},
   "outputs": [],
   "source": [
    "IMAGEURL = \"https://upload.wikimedia.org/wikipedia/commons/thumb/6/68/Lynx_lynx_poing.jpg/220px-Lynx_lynx_poing.jpg\""
   ]
  },
  {
   "cell_type": "code",
   "execution_count": null,
   "metadata": {},
   "outputs": [],
   "source": [
    "jsonimg = img_url_to_json(IMAGEURL)"
   ]
  },
  {
   "cell_type": "code",
   "execution_count": null,
   "metadata": {},
   "outputs": [],
   "source": [
    "json_lod= json.loads(jsonimg)"
   ]
  },
  {
   "cell_type": "code",
   "execution_count": null,
   "metadata": {},
   "outputs": [],
   "source": [
    "predict_for = get_model_api()"
   ]
  },
  {
   "cell_type": "code",
   "execution_count": null,
   "metadata": {},
   "outputs": [],
   "source": [
    "output = predict_for(json_lod['input'])"
   ]
  },
  {
   "cell_type": "markdown",
   "metadata": {},
   "source": [
    "The output of our prediction function is JSON that will be returned to our Flask app. It looks like our model predicted Lynx with over 99% probability."
   ]
  },
  {
   "cell_type": "code",
   "execution_count": null,
   "metadata": {},
   "outputs": [],
   "source": [
    "json.dumps(output)"
   ]
  },
  {
   "cell_type": "markdown",
   "metadata": {},
   "source": [
    "We can move onto [building our docker image](02_BuildImage.ipynb)"
   ]
  }
 ],
 "metadata": {
  "kernelspec": {
   "display_name": "Tensorflow remotedocker-gpu",
   "language": "python",
   "name": "tensorflow_remotedocker-gpu"
  },
  "language_info": {
   "codemirror_mode": {
    "name": "ipython",
    "version": 3
   },
   "file_extension": ".py",
   "mimetype": "text/x-python",
   "name": "python",
   "nbconvert_exporter": "python",
   "pygments_lexer": "ipython3",
   "version": "3.5.2"
  }
 },
 "nbformat": 4,
 "nbformat_minor": 2
}
